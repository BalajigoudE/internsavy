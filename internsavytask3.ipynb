{
  "nbformat": 4,
  "nbformat_minor": 0,
  "metadata": {
    "colab": {
      "provenance": [],
      "authorship_tag": "ABX9TyMde341XEPTDVAzzcCgKUL9",
      "include_colab_link": true
    },
    "kernelspec": {
      "name": "python3",
      "display_name": "Python 3"
    },
    "language_info": {
      "name": "python"
    }
  },
  "cells": [
    {
      "cell_type": "markdown",
      "metadata": {
        "id": "view-in-github",
        "colab_type": "text"
      },
      "source": [
        "<a href=\"https://colab.research.google.com/github/BalajigoudE/internsavy/blob/main/internsavytask3.ipynb\" target=\"_parent\"><img src=\"https://colab.research.google.com/assets/colab-badge.svg\" alt=\"Open In Colab\"/></a>"
      ]
    },
    {
      "cell_type": "code",
      "source": [
        "pip install scikit-learn"
      ],
      "metadata": {
        "colab": {
          "base_uri": "https://localhost:8080/"
        },
        "id": "mDNtjt4hHT4o",
        "outputId": "da2dedc1-d4fe-4a19-8166-2ed933c478b6"
      },
      "execution_count": 1,
      "outputs": [
        {
          "output_type": "stream",
          "name": "stdout",
          "text": [
            "Requirement already satisfied: scikit-learn in /usr/local/lib/python3.10/dist-packages (1.2.2)\n",
            "Requirement already satisfied: numpy>=1.17.3 in /usr/local/lib/python3.10/dist-packages (from scikit-learn) (1.22.4)\n",
            "Requirement already satisfied: scipy>=1.3.2 in /usr/local/lib/python3.10/dist-packages (from scikit-learn) (1.10.1)\n",
            "Requirement already satisfied: joblib>=1.1.1 in /usr/local/lib/python3.10/dist-packages (from scikit-learn) (1.2.0)\n",
            "Requirement already satisfied: threadpoolctl>=2.0.0 in /usr/local/lib/python3.10/dist-packages (from scikit-learn) (3.1.0)\n"
          ]
        }
      ]
    },
    {
      "cell_type": "code",
      "execution_count": 2,
      "metadata": {
        "colab": {
          "base_uri": "https://localhost:8080/"
        },
        "id": "5VkeNZJZHECN",
        "outputId": "7ba68075-8b94-4244-ead5-fa629c155165"
      },
      "outputs": [
        {
          "output_type": "stream",
          "name": "stdout",
          "text": [
            "         CustomerID        Age  Annual Income (k$)  Spending Score (1-100)\n",
            "Cluster                                                                   \n",
            "0         86.320988  42.716049           55.296296               49.518519\n",
            "1        164.371429  41.114286           88.200000               17.114286\n",
            "2         23.000000  45.217391           26.304348               20.913043\n",
            "3         23.090909  25.272727           25.727273               79.363636\n",
            "4        162.000000  32.692308           86.538462               82.128205\n"
          ]
        },
        {
          "output_type": "stream",
          "name": "stderr",
          "text": [
            "/usr/local/lib/python3.10/dist-packages/sklearn/cluster/_kmeans.py:870: FutureWarning: The default value of `n_init` will change from 10 to 'auto' in 1.4. Set the value of `n_init` explicitly to suppress the warning\n",
            "  warnings.warn(\n",
            "<ipython-input-2-2778a66e6ea5>:16: FutureWarning: The default value of numeric_only in DataFrameGroupBy.mean is deprecated. In a future version, numeric_only will default to False. Either specify numeric_only or select only columns which should be valid for the function.\n",
            "  segmentation_results = data.groupby('Cluster').mean()\n"
          ]
        }
      ],
      "source": [
        "import pandas as pd\n",
        "from sklearn.cluster import KMeans\n",
        "\n",
        "# Load and preprocess the data\n",
        "data = pd.read_csv('/content/Mall_Customers.csv')  # Replace 'customer_data.csv' with your data file\n",
        "features =data.iloc[:,[3,4]]  # Select relevant features for clustering\n",
        "\n",
        "# Perform customer segmentation using K-means\n",
        "kmeans = KMeans(n_clusters=5, random_state=42)\n",
        "clusters = kmeans.fit_predict(features)\n",
        "\n",
        "# Add the cluster labels to the original dataset\n",
        "data['Cluster'] = clusters\n",
        "\n",
        "# Explore the segmentation results\n",
        "segmentation_results = data.groupby('Cluster').mean()\n",
        "print(segmentation_results)\n"
      ]
    }
  ]
}